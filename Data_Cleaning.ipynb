{
 "cells": [
  {
   "cell_type": "code",
   "execution_count": null,
   "metadata": {},
   "outputs": [],
   "source": [
    "%%bash\n",
    "# Get data from https://drive.google.com/file/d/1HuxIvMWF-0xbgza1Y_o5vYVwtpv-fekZ/view?usp=sharing\n",
    "cat Data/*.txt > Data/consolidated_data.csv"
   ]
  },
  {
   "cell_type": "code",
   "execution_count": null,
   "metadata": {},
   "outputs": [],
   "source": [
    "import pandas as pd \n",
    "raw = pd.read_csv('Data/consolidated_data.csv')\n",
    "raw.columns = ['time','lat','long','mobile','wifi']\n",
    "raw = raw.drop_duplicates().reset_index(drop=True)\n",
    "raw"
   ]
  },
  {
   "cell_type": "code",
   "execution_count": null,
   "metadata": {},
   "outputs": [],
   "source": [
    "# cleanup wifi data\n",
    "raw.wifi = raw.wifi.fillna(value=-127)"
   ]
  },
  {
   "cell_type": "code",
   "execution_count": null,
   "metadata": {},
   "outputs": [],
   "source": [
    "# cleanup mobile data\n",
    "raw.mobile = raw.mobile.fillna(value=-127)"
   ]
  },
  {
   "cell_type": "code",
   "execution_count": null,
   "metadata": {},
   "outputs": [],
   "source": [
    "# positive offsetting for ease of data manipulation\n",
    "raw.wifi = raw.wifi.add(127)\n",
    "raw.mobile = raw.mobile.add(127)\n",
    "\n",
    "from datetime import datetime\n",
    "\n",
    "def date_string_to_epoch(date_string):\n",
    "    dt_object = datetime.strptime(date_string, '%Y-%m-%d %H:%M:%S.%f')\n",
    "    epoch_timestamp = int(dt_object.timestamp())\n",
    "    return epoch_timestamp\n",
    "\n",
    "raw.time = raw.time.apply(date_string_to_epoch)\n",
    "raw\n",
    "\n"
   ]
  },
  {
   "cell_type": "code",
   "execution_count": null,
   "metadata": {},
   "outputs": [],
   "source": [
    "# splitting into wifi and mobile data\n",
    "wifi = raw[raw.wifi > 0].reset_index(drop=True).rename(columns={'wifi':'wifi_strength'})\n",
    "wifi = wifi.drop(columns='mobile')\n",
    "mobile = raw[raw.mobile > 0].reset_index(drop=True).rename(columns={'mobile':'mobile_strength'})\n",
    "mobile = mobile.drop(columns='wifi')"
   ]
  },
  {
   "cell_type": "code",
   "execution_count": null,
   "metadata": {},
   "outputs": [],
   "source": [
    "wifi"
   ]
  },
  {
   "cell_type": "code",
   "execution_count": null,
   "metadata": {},
   "outputs": [],
   "source": [
    "mobile"
   ]
  },
  {
   "cell_type": "code",
   "execution_count": null,
   "metadata": {},
   "outputs": [],
   "source": [
    "mobile.to_csv('Data/mobile_cleaned.csv',index=False)\n",
    "wifi.to_csv('Data/wifi_cleaned.csv',index=False)"
   ]
  }
 ],
 "metadata": {
  "kernelspec": {
   "display_name": "Python 3",
   "language": "python",
   "name": "python3"
  },
  "language_info": {
   "codemirror_mode": {
    "name": "ipython",
    "version": 3
   },
   "file_extension": ".py",
   "mimetype": "text/x-python",
   "name": "python",
   "nbconvert_exporter": "python",
   "pygments_lexer": "ipython3",
   "version": "3.8.0"
  }
 },
 "nbformat": 4,
 "nbformat_minor": 2
}
