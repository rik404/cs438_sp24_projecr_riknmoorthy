{
 "cells": [
  {
   "cell_type": "code",
   "execution_count": null,
   "metadata": {},
   "outputs": [],
   "source": [
    "import pandas as pd\n",
    "mobile = pd.read_csv('Data/mobile_cleaned.csv')\n"
   ]
  },
  {
   "cell_type": "code",
   "execution_count": null,
   "metadata": {},
   "outputs": [],
   "source": [
    "# create a folium map with mean lat and long as center\n",
    "import folium\n",
    "map_center = [mobile.lat.mean(), mobile.long.mean()]\n",
    "mymap = folium.Map(location=map_center, zoom_start=15)\n",
    "\n"
   ]
  },
  {
   "cell_type": "code",
   "execution_count": null,
   "metadata": {},
   "outputs": [],
   "source": [
    "mobile.drop(columns='time',inplace=True)\n",
    "mobile.drop_duplicates(inplace=True)\n",
    "mobile.reset_index(drop=True, inplace=True)\n",
    "\n",
    "print(mobile.mobile_strength.min())\n",
    "print(mobile.mobile_strength.max())\n",
    "# we have max and min\n",
    "# we set a range interval based score for the strength\n",
    "mobile.mobile_strength = mobile.mobile_strength.div(10)\n",
    "mobile"
   ]
  },
  {
   "cell_type": "code",
   "execution_count": null,
   "metadata": {},
   "outputs": [],
   "source": [
    "for i, row in mobile.iterrows():\n",
    "    folium.Marker([row.lat, row.long], \n",
    "                  popup=f\"Signal Strength: {row.mobile_strength}\",\n",
    "                  icon=folium.Icon(color='blue', icon='info-sign')\n",
    "                 ).add_to(mymap)\n"
   ]
  },
  {
   "cell_type": "code",
   "execution_count": null,
   "metadata": {},
   "outputs": [],
   "source": [
    "mymap"
   ]
  },
  {
   "cell_type": "code",
   "execution_count": null,
   "metadata": {},
   "outputs": [],
   "source": [
    "import folium\n",
    "from folium.plugins import HeatMap\n",
    "map_center = [mobile.lat.mean(), mobile.long.mean()]\n",
    "mymap = folium.Map(location=map_center, zoom_start=15)\n",
    "min_strength = mobile.mobile_strength.min()\n",
    "max_strength = mobile.mobile_strength.max()\n",
    "\n",
    "heat_data = mobile[['lat', 'long', 'mobile_strength']].values.tolist()\n",
    "heat_data"
   ]
  },
  {
   "cell_type": "code",
   "execution_count": null,
   "metadata": {},
   "outputs": [],
   "source": [
    "heatmap = HeatMap(heat_data, radius=50, blur=10)\n",
    "mymap.add_child(heatmap)\n",
    "mymap"
   ]
  }
 ],
 "metadata": {
  "kernelspec": {
   "display_name": "Python 3",
   "language": "python",
   "name": "python3"
  },
  "language_info": {
   "codemirror_mode": {
    "name": "ipython",
    "version": 3
   },
   "file_extension": ".py",
   "mimetype": "text/x-python",
   "name": "python",
   "nbconvert_exporter": "python",
   "pygments_lexer": "ipython3",
   "version": "3.8.0"
  }
 },
 "nbformat": 4,
 "nbformat_minor": 2
}
