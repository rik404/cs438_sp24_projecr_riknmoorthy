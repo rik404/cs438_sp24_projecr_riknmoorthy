{
 "cells": [
  {
   "cell_type": "code",
   "execution_count": null,
   "metadata": {},
   "outputs": [],
   "source": [
    "from sklearn.ensemble import RandomForestRegressor\n",
    "import pandas as pd\n",
    "from sklearn.model_selection import train_test_split\n",
    "# 4. Model Training\n"
   ]
  },
  {
   "cell_type": "code",
   "execution_count": null,
   "metadata": {},
   "outputs": [],
   "source": [
    "import pandas as pd\n",
    "mobile = pd.read_csv('Data/mobile_cleaned.csv')\n",
    "# mobile.drop(columns='time',inplace=True)\n",
    "mobile.drop_duplicates(inplace=True)\n",
    "mobile = mobile.reset_index(drop=True)\n",
    "mobile.reset_index(drop=True, inplace=True)\n",
    "\n",
    "print(mobile.mobile_strength.min())\n",
    "print(mobile.mobile_strength.max())\n",
    "# we have max and min\n",
    "# we set a range interval based score for the strength\n",
    "mobile.mobile_strength = mobile.mobile_strength.div(10)\n",
    "mobile"
   ]
  },
  {
   "cell_type": "code",
   "execution_count": null,
   "metadata": {},
   "outputs": [],
   "source": [
    "from sklearn.model_selection import train_test_split\n",
    "X = mobile[['time', 'lat', 'long']]  # Features: time, latitude, longitude\n",
    "y = mobile['mobile_strength']\n",
    "X_train, X_test, y_train, y_test = train_test_split(X, y, test_size=0.001, random_state=42)\n"
   ]
  },
  {
   "cell_type": "code",
   "execution_count": null,
   "metadata": {},
   "outputs": [],
   "source": [
    "model = RandomForestRegressor()\n",
    "model.fit(X_train, y_train)\n",
    "\n",
    "\n",
    "y_pred = model.predict(X_test)\n",
    "\n",
    "\n",
    "df = pd.DataFrame({'lat':X_test.lat,'long':X_test.long,'expected':y_test,'predicted':y_pred}).reset_index(drop=True)\n",
    "df"
   ]
  },
  {
   "cell_type": "code",
   "execution_count": null,
   "metadata": {},
   "outputs": [],
   "source": [
    "print(X_test)"
   ]
  },
  {
   "cell_type": "code",
   "execution_count": null,
   "metadata": {},
   "outputs": [],
   "source": [
    "from sklearn.neighbors import KDTree\n",
    "higher_signal_points = mobile[mobile.mobile_strength>=df.predicted[0]+1].reset_index(drop=True)[['lat','long']]\n",
    "print(higher_signal_points)\n",
    "kd_tree = KDTree(higher_signal_points)\n",
    "\n",
    "given_point = [[df.lat[0], df.long[0]]]\n",
    "\n",
    "distance, nearest_index = kd_tree.query(given_point, k=1)\n",
    "\n",
    "print(distance[0], nearest_index[0])\n",
    "\n",
    "nearest_point = higher_signal_points.iloc[nearest_index[0][0]]\n",
    "print(nearest_point)"
   ]
  }
 ],
 "metadata": {
  "kernelspec": {
   "display_name": "Python 3",
   "language": "python",
   "name": "python3"
  },
  "language_info": {
   "codemirror_mode": {
    "name": "ipython",
    "version": 3
   },
   "file_extension": ".py",
   "mimetype": "text/x-python",
   "name": "python",
   "nbconvert_exporter": "python",
   "pygments_lexer": "ipython3",
   "version": "3.8.0"
  }
 },
 "nbformat": 4,
 "nbformat_minor": 2
}
