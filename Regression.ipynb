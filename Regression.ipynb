{
 "cells": [
  {
   "cell_type": "code",
   "execution_count": 9,
   "metadata": {},
   "outputs": [],
   "source": [
    "from sklearn.ensemble import RandomForestRegressor\n",
    "import pandas as pd\n",
    "from sklearn.model_selection import train_test_split\n",
    "# 4. Model Training\n"
   ]
  },
  {
   "cell_type": "code",
   "execution_count": 10,
   "metadata": {},
   "outputs": [
    {
     "name": "stdout",
     "output_type": "stream",
     "text": [
      "13\n",
      "62\n"
     ]
    },
    {
     "data": {
      "text/html": [
       "<div>\n",
       "<style scoped>\n",
       "    .dataframe tbody tr th:only-of-type {\n",
       "        vertical-align: middle;\n",
       "    }\n",
       "\n",
       "    .dataframe tbody tr th {\n",
       "        vertical-align: top;\n",
       "    }\n",
       "\n",
       "    .dataframe thead th {\n",
       "        text-align: right;\n",
       "    }\n",
       "</style>\n",
       "<table border=\"1\" class=\"dataframe\">\n",
       "  <thead>\n",
       "    <tr style=\"text-align: right;\">\n",
       "      <th></th>\n",
       "      <th>time</th>\n",
       "      <th>lat</th>\n",
       "      <th>long</th>\n",
       "      <th>mobile_strength</th>\n",
       "    </tr>\n",
       "  </thead>\n",
       "  <tbody>\n",
       "    <tr>\n",
       "      <th>0</th>\n",
       "      <td>1712870250</td>\n",
       "      <td>40.112640</td>\n",
       "      <td>-88.218734</td>\n",
       "      <td>3.6</td>\n",
       "    </tr>\n",
       "    <tr>\n",
       "      <th>1</th>\n",
       "      <td>1712870260</td>\n",
       "      <td>40.112646</td>\n",
       "      <td>-88.218679</td>\n",
       "      <td>3.6</td>\n",
       "    </tr>\n",
       "    <tr>\n",
       "      <th>2</th>\n",
       "      <td>1712870292</td>\n",
       "      <td>40.112550</td>\n",
       "      <td>-88.218558</td>\n",
       "      <td>2.9</td>\n",
       "    </tr>\n",
       "    <tr>\n",
       "      <th>3</th>\n",
       "      <td>1712870292</td>\n",
       "      <td>40.112550</td>\n",
       "      <td>-88.218558</td>\n",
       "      <td>3.9</td>\n",
       "    </tr>\n",
       "    <tr>\n",
       "      <th>4</th>\n",
       "      <td>1712870300</td>\n",
       "      <td>40.112630</td>\n",
       "      <td>-88.218658</td>\n",
       "      <td>2.9</td>\n",
       "    </tr>\n",
       "    <tr>\n",
       "      <th>...</th>\n",
       "      <td>...</td>\n",
       "      <td>...</td>\n",
       "      <td>...</td>\n",
       "      <td>...</td>\n",
       "    </tr>\n",
       "    <tr>\n",
       "      <th>2648</th>\n",
       "      <td>1714183561</td>\n",
       "      <td>40.108236</td>\n",
       "      <td>-88.235220</td>\n",
       "      <td>4.8</td>\n",
       "    </tr>\n",
       "    <tr>\n",
       "      <th>2649</th>\n",
       "      <td>1714183561</td>\n",
       "      <td>40.108236</td>\n",
       "      <td>-88.235220</td>\n",
       "      <td>5.0</td>\n",
       "    </tr>\n",
       "    <tr>\n",
       "      <th>2650</th>\n",
       "      <td>1714183561</td>\n",
       "      <td>40.108236</td>\n",
       "      <td>-88.235220</td>\n",
       "      <td>4.4</td>\n",
       "    </tr>\n",
       "    <tr>\n",
       "      <th>2651</th>\n",
       "      <td>1714183561</td>\n",
       "      <td>40.108236</td>\n",
       "      <td>-88.235220</td>\n",
       "      <td>4.7</td>\n",
       "    </tr>\n",
       "    <tr>\n",
       "      <th>2652</th>\n",
       "      <td>1714183561</td>\n",
       "      <td>40.108236</td>\n",
       "      <td>-88.235220</td>\n",
       "      <td>4.2</td>\n",
       "    </tr>\n",
       "  </tbody>\n",
       "</table>\n",
       "<p>2653 rows × 4 columns</p>\n",
       "</div>"
      ],
      "text/plain": [
       "            time        lat       long  mobile_strength\n",
       "0     1712870250  40.112640 -88.218734              3.6\n",
       "1     1712870260  40.112646 -88.218679              3.6\n",
       "2     1712870292  40.112550 -88.218558              2.9\n",
       "3     1712870292  40.112550 -88.218558              3.9\n",
       "4     1712870300  40.112630 -88.218658              2.9\n",
       "...          ...        ...        ...              ...\n",
       "2648  1714183561  40.108236 -88.235220              4.8\n",
       "2649  1714183561  40.108236 -88.235220              5.0\n",
       "2650  1714183561  40.108236 -88.235220              4.4\n",
       "2651  1714183561  40.108236 -88.235220              4.7\n",
       "2652  1714183561  40.108236 -88.235220              4.2\n",
       "\n",
       "[2653 rows x 4 columns]"
      ]
     },
     "execution_count": 10,
     "metadata": {},
     "output_type": "execute_result"
    }
   ],
   "source": [
    "import pandas as pd\n",
    "mobile = pd.read_csv('Data/mobile_cleaned.csv')\n",
    "# mobile.drop(columns='time',inplace=True)\n",
    "mobile.drop_duplicates(inplace=True)\n",
    "mobile = mobile.reset_index(drop=True)\n",
    "mobile.reset_index(drop=True, inplace=True)\n",
    "\n",
    "print(mobile.mobile_strength.min())\n",
    "print(mobile.mobile_strength.max())\n",
    "# we have max and min\n",
    "# we set a range interval based score for the strength\n",
    "mobile.mobile_strength = mobile.mobile_strength.div(10)\n",
    "mobile"
   ]
  },
  {
   "cell_type": "code",
   "execution_count": 11,
   "metadata": {},
   "outputs": [],
   "source": [
    "from sklearn.model_selection import train_test_split\n",
    "X = mobile[['time', 'lat', 'long']]  # Features: time, latitude, longitude\n",
    "y = mobile['mobile_strength']\n",
    "X_train, X_test, y_train, y_test = train_test_split(X, y, test_size=0.001, random_state=42)\n"
   ]
  },
  {
   "cell_type": "code",
   "execution_count": 16,
   "metadata": {},
   "outputs": [
    {
     "data": {
      "text/html": [
       "<div>\n",
       "<style scoped>\n",
       "    .dataframe tbody tr th:only-of-type {\n",
       "        vertical-align: middle;\n",
       "    }\n",
       "\n",
       "    .dataframe tbody tr th {\n",
       "        vertical-align: top;\n",
       "    }\n",
       "\n",
       "    .dataframe thead th {\n",
       "        text-align: right;\n",
       "    }\n",
       "</style>\n",
       "<table border=\"1\" class=\"dataframe\">\n",
       "  <thead>\n",
       "    <tr style=\"text-align: right;\">\n",
       "      <th></th>\n",
       "      <th>lat</th>\n",
       "      <th>long</th>\n",
       "      <th>expected</th>\n",
       "      <th>predicted</th>\n",
       "    </tr>\n",
       "  </thead>\n",
       "  <tbody>\n",
       "    <tr>\n",
       "      <th>0</th>\n",
       "      <td>40.103832</td>\n",
       "      <td>-88.234731</td>\n",
       "      <td>2.4</td>\n",
       "      <td>2.404217</td>\n",
       "    </tr>\n",
       "    <tr>\n",
       "      <th>1</th>\n",
       "      <td>40.112556</td>\n",
       "      <td>-88.218597</td>\n",
       "      <td>3.0</td>\n",
       "      <td>2.999500</td>\n",
       "    </tr>\n",
       "    <tr>\n",
       "      <th>2</th>\n",
       "      <td>40.110484</td>\n",
       "      <td>-88.219126</td>\n",
       "      <td>3.0</td>\n",
       "      <td>3.000000</td>\n",
       "    </tr>\n",
       "  </tbody>\n",
       "</table>\n",
       "</div>"
      ],
      "text/plain": [
       "         lat       long  expected  predicted\n",
       "0  40.103832 -88.234731       2.4   2.404217\n",
       "1  40.112556 -88.218597       3.0   2.999500\n",
       "2  40.110484 -88.219126       3.0   3.000000"
      ]
     },
     "execution_count": 16,
     "metadata": {},
     "output_type": "execute_result"
    }
   ],
   "source": [
    "model = RandomForestRegressor()\n",
    "model.fit(X_train, y_train)\n",
    "\n",
    "\n",
    "y_pred = model.predict(X_test)\n",
    "\n",
    "\n",
    "df = pd.DataFrame({'lat':X_test.lat,'long':X_test.long,'expected':y_test,'predicted':y_pred}).reset_index(drop=True)\n",
    "df"
   ]
  },
  {
   "cell_type": "code",
   "execution_count": 17,
   "metadata": {},
   "outputs": [
    {
     "name": "stdout",
     "output_type": "stream",
     "text": [
      "            time        lat       long\n",
      "2470  1714173002  40.103832 -88.234731\n",
      "173   1713217264  40.112556 -88.218597\n",
      "1229  1713228748  40.110484 -88.219126\n"
     ]
    }
   ],
   "source": [
    "print(X_test)"
   ]
  },
  {
   "cell_type": "code",
   "execution_count": 33,
   "metadata": {},
   "outputs": [
    {
     "name": "stdout",
     "output_type": "stream",
     "text": [
      "           lat       long\n",
      "0    40.112640 -88.218734\n",
      "1    40.112646 -88.218679\n",
      "2    40.112550 -88.218558\n",
      "3    40.112558 -88.218577\n",
      "4    40.112584 -88.218498\n",
      "..         ...        ...\n",
      "455  40.108236 -88.235220\n",
      "456  40.108236 -88.235220\n",
      "457  40.108236 -88.235220\n",
      "458  40.108236 -88.235220\n",
      "459  40.108236 -88.235220\n",
      "\n",
      "[460 rows x 2 columns]\n",
      "[0.00169947] [357]\n",
      "lat     40.105495\n",
      "long   -88.235079\n",
      "Name: 357, dtype: float64\n"
     ]
    }
   ],
   "source": [
    "from sklearn.neighbors import KDTree\n",
    "higher_signal_points = mobile[mobile.mobile_strength>=df.predicted[0]+1].reset_index(drop=True)[['lat','long']]\n",
    "print(higher_signal_points)\n",
    "kd_tree = KDTree(higher_signal_points)\n",
    "\n",
    "given_point = [[df.lat[0], df.long[0]]]\n",
    "\n",
    "distance, nearest_index = kd_tree.query(given_point, k=1)\n",
    "\n",
    "print(distance[0], nearest_index[0])\n",
    "\n",
    "nearest_point = higher_signal_points.iloc[nearest_index[0][0]]\n",
    "print(nearest_point)"
   ]
  }
 ],
 "metadata": {
  "kernelspec": {
   "display_name": "Python 3",
   "language": "python",
   "name": "python3"
  },
  "language_info": {
   "codemirror_mode": {
    "name": "ipython",
    "version": 3
   },
   "file_extension": ".py",
   "mimetype": "text/x-python",
   "name": "python",
   "nbconvert_exporter": "python",
   "pygments_lexer": "ipython3",
   "version": "3.8.0"
  }
 },
 "nbformat": 4,
 "nbformat_minor": 2
}
