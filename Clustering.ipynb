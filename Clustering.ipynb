{
 "cells": [
  {
   "cell_type": "code",
   "execution_count": null,
   "metadata": {},
   "outputs": [],
   "source": [
    "import pandas as pd\n",
    "mobile = pd.read_csv('Data/mobile_cleaned.csv')\n",
    "mobile.drop(columns='time',inplace=True)\n",
    "# mobile.drop_duplicates(inplace=True).reset_index(drop=True)\n",
    "mobile.reset_index(drop=True, inplace=True)\n",
    "\n",
    "print(mobile.mobile_strength.min())\n",
    "print(mobile.mobile_strength.max())\n",
    "# we have max and min\n",
    "# we set a range interval based score for the strength\n",
    "mobile.mobile_strength = mobile.mobile_strength.div(10)\n",
    "mobile"
   ]
  },
  {
   "cell_type": "code",
   "execution_count": null,
   "metadata": {},
   "outputs": [],
   "source": [
    "! pip install matplotlib numpy pandas seaborn scikit-learn ipython kneed"
   ]
  },
  {
   "cell_type": "code",
   "execution_count": null,
   "metadata": {},
   "outputs": [],
   "source": [
    "import matplotlib.pyplot as plt\n",
    "from kneed import KneeLocator\n",
    "from sklearn.datasets import make_blobs\n",
    "from sklearn.cluster import KMeans, DBSCAN\n",
    "from sklearn.metrics import silhouette_score\n",
    "from sklearn.preprocessing import StandardScaler\n",
    "from sklearn.metrics import adjusted_rand_score"
   ]
  },
  {
   "cell_type": "code",
   "execution_count": null,
   "metadata": {},
   "outputs": [],
   "source": [
    "features = mobile.values.tolist()"
   ]
  },
  {
   "cell_type": "code",
   "execution_count": null,
   "metadata": {},
   "outputs": [],
   "source": [
    "features"
   ]
  },
  {
   "cell_type": "code",
   "execution_count": null,
   "metadata": {},
   "outputs": [],
   "source": [
    "scaler = StandardScaler()\n",
    "scaled_features = scaler.fit_transform(features)"
   ]
  },
  {
   "cell_type": "code",
   "execution_count": null,
   "metadata": {},
   "outputs": [],
   "source": [
    "scaled_features"
   ]
  },
  {
   "cell_type": "code",
   "execution_count": null,
   "metadata": {},
   "outputs": [],
   "source": [
    "import numpy as np\n",
    "kmeans = KMeans(n_clusters=50)\n",
    "dbscan = DBSCAN(eps=0.003)\n",
    "features = np.array(features)\n",
    "kmeans.fit(features)\n",
    "dbscan.fit(features)\n",
    "kmeans_silhouette = silhouette_score(\n",
    "    scaled_features, kmeans.labels_\n",
    ")\n",
    "dbscan_silhouette = silhouette_score(\n",
    "    scaled_features, dbscan.labels_\n",
    ")"
   ]
  },
  {
   "cell_type": "code",
   "execution_count": null,
   "metadata": {},
   "outputs": [],
   "source": [
    "kmeans_silhouette"
   ]
  },
  {
   "cell_type": "code",
   "execution_count": null,
   "metadata": {},
   "outputs": [],
   "source": [
    "dbscan_silhouette"
   ]
  },
  {
   "cell_type": "code",
   "execution_count": null,
   "metadata": {},
   "outputs": [],
   "source": [
    "test = scaler.fit_transform([[40.1126004, -88.2184671, 3.8]])"
   ]
  },
  {
   "cell_type": "code",
   "execution_count": null,
   "metadata": {},
   "outputs": [],
   "source": [
    "import matplotlib.pyplot as plt\n",
    "import numpy as np\n",
    "import matplotlib.colors as mcolors\n",
    "\n",
    "\n",
    "numbers = np.arange(1, 501)\n",
    "\n",
    "cmap = plt.cm.jet\n",
    "\n",
    "norm = plt.Normalize(vmin=numbers.min(), vmax=numbers.max())\n",
    "\n",
    "colors = [cmap(norm(num)) for num in numbers]\n",
    "\n",
    "hex_colors = [mcolors.to_hex(color) for color in colors]\n",
    "\n",
    "fig, (ax1, ax2) = plt.subplots(\n",
    "    1, 2, figsize=(8, 6), sharex=True, sharey=True\n",
    ")\n",
    "fig.suptitle(f\"Clustering Algorithm Comparison: Crescents\", fontsize=16)\n",
    "\n",
    "# The k-means plot\n",
    "km_colors = [hex_colors[label*10] for label in kmeans.labels_]\n",
    "ax1.scatter(features[:, 0], features[:, 1], c=km_colors)\n",
    "ax1.set_title(\n",
    "    f\"k-means\\nSilhouette: {kmeans_silhouette}\", fontdict={\"fontsize\": 12}\n",
    ")\n",
    "\n",
    "# The dbscan plot\n",
    "db_colors = [hex_colors[label] for label in dbscan.labels_]\n",
    "ax2.scatter(features[:, 0], features[:, 1], c=db_colors)\n",
    "ax2.set_title(\n",
    "    f\"DBSCAN\\nSilhouette: {dbscan_silhouette}\", fontdict={\"fontsize\": 12}\n",
    ")\n",
    "plt.show()"
   ]
  }
 ],
 "metadata": {
  "kernelspec": {
   "display_name": "Python 3",
   "language": "python",
   "name": "python3"
  },
  "language_info": {
   "codemirror_mode": {
    "name": "ipython",
    "version": 3
   },
   "file_extension": ".py",
   "mimetype": "text/x-python",
   "name": "python",
   "nbconvert_exporter": "python",
   "pygments_lexer": "ipython3",
   "version": "3.8.0"
  }
 },
 "nbformat": 4,
 "nbformat_minor": 2
}
